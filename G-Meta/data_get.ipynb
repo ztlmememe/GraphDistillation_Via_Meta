{
 "cells": [
  {
   "cell_type": "code",
   "execution_count": 1,
   "id": "d83329a9",
   "metadata": {
    "ExecuteTime": {
     "end_time": "2023-06-20T13:42:09.767441Z",
     "start_time": "2023-06-20T13:42:02.794581Z"
    }
   },
   "outputs": [],
   "source": [
    "import numpy as np\n",
    "import torch\n",
    "import torch.nn as nn\n",
    "import torch.optim as optim\n",
    "from torch.nn import Parameter\n",
    "import torch.nn.functional as F\n",
    "from utils import match_loss, regularization, row_normalize_tensor\n",
    "import deeprobust.graph.utils as utils\n",
    "from copy import deepcopy\n",
    "import numpy as np\n",
    "from tqdm import tqdm\n",
    "from models.gcn import GCN\n",
    "from models.sgc import SGC\n",
    "from models.sgc_multi import SGC as SGC1\n",
    "from models.parametrized_adj import PGE\n",
    "import scipy.sparse as sp\n",
    "from torch_sparse import SparseTensor\n",
    "import  torch, os\n",
    "import  numpy as np\n",
    "from    subgraph_data_processing import Subgraphs,Subgraphs_syn\n",
    "import  scipy.stats\n",
    "from    torch.utils.data import DataLoader\n",
    "from    torch.optim import lr_scheduler\n",
    "import  random, sys, pickle\n",
    "import  argparse\n",
    "\n",
    "import networkx as nx\n",
    "import numpy as np\n",
    "from scipy.special import comb\n",
    "from itertools import combinations \n",
    "import networkx.algorithms.isomorphism as iso\n",
    "from tqdm import tqdm\n",
    "import dgl\n",
    "\n",
    "from meta import Meta\n",
    "import time\n",
    "import copy\n",
    "import psutil\n",
    "from memory_profiler import memory_usage\n",
    "\n",
    "os.environ['KMP_DUPLICATE_LIB_OK']='True'"
   ]
  },
  {
   "cell_type": "code",
   "execution_count": 2,
   "id": "6ec8f797",
   "metadata": {
    "ExecuteTime": {
     "end_time": "2023-06-20T06:35:09.525969Z",
     "start_time": "2023-06-20T06:35:09.494714Z"
    }
   },
   "outputs": [],
   "source": [
    "import argparse\n",
    "parser = argparse.ArgumentParser()\n",
    "parser.add_argument('--gpu_id', type=int, default=0, help='gpu id')\n",
    "parser.add_argument('--dataset', type=str, default='cora')\n",
    "parser.add_argument('--dis_metric', type=str, default='ours')\n",
    "parser.add_argument('--epochs', type=int, default=2000)\n",
    "parser.add_argument('--nlayers', type=int, default=3)\n",
    "parser.add_argument('--hidden', type=int, default=256)\n",
    "parser.add_argument('--lr_adj', type=float, default=0.01)\n",
    "parser.add_argument('--lr_feat', type=float, default=0.01)\n",
    "parser.add_argument('--lr_model', type=float, default=0.01)\n",
    "parser.add_argument('--weight_decay', type=float, default=0.0)\n",
    "parser.add_argument('--dropout', type=float, default=0.0)\n",
    "parser.add_argument('--normalize_features', type=bool, default=True)\n",
    "parser.add_argument('--keep_ratio', type=float, default=1.0)\n",
    "parser.add_argument('--reduction_rate', type=float, default=1)\n",
    "parser.add_argument('--seed', type=int, default=15, help='Random seed.')\n",
    "parser.add_argument('--alpha', type=float, default=0, help='regularization term.')\n",
    "parser.add_argument('--debug', type=int, default=0)\n",
    "parser.add_argument('--sgc', type=int, default=1)\n",
    "parser.add_argument('--inner', type=int, default=0)\n",
    "parser.add_argument('--outer', type=int, default=20)\n",
    "parser.add_argument('--save', type=int, default=0)\n",
    "parser.add_argument('--one_step', type=int, default=0)\n",
    "\n",
    "parser.add_argument('--epoch', type=int, help='epoch number', default=10)\n",
    "parser.add_argument('--n_way', type=int, help='n way', default=3)\n",
    "# parser.add_argument('--k_spt', type=int, help='k shot for support set', default=3)\n",
    "# parser.add_argument('--k_qry', type=int, help='k shot for query set', default=24)\n",
    "parser.add_argument('--k_spt', type=int, help='k shot for support set', default=1)\n",
    "parser.add_argument('--k_qry', type=int, help='k shot for query set', default=3)\n",
    "parser.add_argument('--task_num', type=int, help='meta batch size, namely task num', default=32)\n",
    "parser.add_argument('--meta_lr', type=float, help='meta-level outer learning rate', default=1e-3)\n",
    "parser.add_argument('--update_lr', type=float, help='task-level inner update learning rate', default=1e-2)\n",
    "parser.add_argument('--update_step', type=int, help='task-level inner update steps', default=10)\n",
    "parser.add_argument('--update_step_test', type=int, help='update steps for finetunning', default=20)\n",
    "parser.add_argument('--input_dim', type=int, help='input feature dim', default=1)\n",
    "parser.add_argument('--hidden_dim', type=int, help='hidden dim', default=256)\n",
    "parser.add_argument('--attention_size', type=int, help='dim of attention_size', default=32)\n",
    "parser.add_argument(\"--data_dir\", default=\"D:\\pythonProject\\python_file\\Graph_DD\\G-Meta-master\\arxiv\", type=str, required=False, help=\"The input data dir.\")\n",
    "parser.add_argument(\"--no_finetune\", default=True, type=str, required=False, help=\"no finetune mode.\")\n",
    "parser.add_argument(\"--task_setup\", default='Disjoint', type=str, required=False, help=\"Select from Disjoint or Shared Setup. For Disjoint-Label, single/multiple graphs are both considered.\")\n",
    "parser.add_argument(\"--method\", default='G-Meta', type=str, required=False, help=\"Use G-Meta\")\n",
    "parser.add_argument('--task_n', type=int, help='task number', default=1)\n",
    "parser.add_argument(\"--task_mode\", default='False', type=str, required=False, help=\"For Evaluating on Tasks\")\n",
    "parser.add_argument(\"--val_result_report_steps\", default=100, type=int, required=False, help=\"validation report\")\n",
    "parser.add_argument(\"--train_result_report_steps\", default=200, type=int, required=False, help=\"training report\")\n",
    "parser.add_argument(\"--num_workers\", default=0, type=int, required=False, help=\"num of workers\")\n",
    "parser.add_argument(\"--batchsz\", default=10000, type=int, required=False, help=\"batch size\")\n",
    "parser.add_argument(\"--link_pred_mode\", default='False', type=str, required=False, help=\"For Link Prediction\")\n",
    "parser.add_argument(\"--h\", default=2, type=int, required=False, help=\"neighborhood size\")\n",
    "parser.add_argument('--sample_nodes', type=int, help='sample nodes if above this number of nodes', default=300)\n",
    "args = parser.parse_args([])"
   ]
  },
  {
   "cell_type": "code",
   "execution_count": 3,
   "id": "693c5de3",
   "metadata": {
    "ExecuteTime": {
     "end_time": "2023-06-20T06:35:09.541584Z",
     "start_time": "2023-06-20T06:35:09.525969Z"
    }
   },
   "outputs": [],
   "source": [
    "import csv\n",
    "from collections import Counter\n",
    "\n",
    "def generate_labels_from_csv(file_path):\n",
    "    with open(file_path, 'r') as csv_file:\n",
    "        reader = csv.DictReader(csv_file)\n",
    "        data = list(reader)\n",
    "\n",
    "    counter = Counter()  # 使用 Counter 对标签进行计数\n",
    "    num_class_dict = {}  # 存储每个类别需要生成的节点数\n",
    "    n = len(data)  # 数据总数\n",
    "\n",
    "    # 统计每个类别的出现次数\n",
    "    for row in data:\n",
    "        label = int(row['label'])\n",
    "        counter[label] += 1\n",
    "\n",
    "    # 根据标签出现次数进行排序\n",
    "    sorted_counter = sorted(counter.items(), key=lambda x: x[1])\n",
    "    sum_ = 0\n",
    "    labels_syn = []  # 合成标签列表\n",
    "    syn_class_indices = {}  # 记录每个类别的索引范围\n",
    "#     ratio = 0.08\n",
    "    ratio = 0.01\n",
    "    # 计算每个类别需要生成的节点数，并生成合成标签\n",
    "    for ix, (c, num) in enumerate(sorted_counter):\n",
    "\n",
    "        if ix == len(sorted_counter) - 1:\n",
    "            num_class_dict[c] = int(n * ratio) - sum_  \n",
    "            # 如果是最后一个类别，那么直接计算需要生成的节点数，并将这个类别的合成标签添加到 labels_syn 列表中\n",
    "            syn_class_indices[c] = [len(labels_syn), len(labels_syn) + num_class_dict[c]]\n",
    "            labels_syn += [c] * num_class_dict[c]\n",
    "\n",
    "        else:\n",
    "            num_class_dict[c] = max(int(num * ratio), 1)  # 其他类别的节点数\n",
    "            # 如果不是最后一个类别，那么先计算需要生成的节点数，然后将这个类别的合成标签添加到 labels_syn 列表中。\n",
    "            sum_ += num_class_dict[c]\n",
    "            syn_class_indices[c] = [len(labels_syn), len(labels_syn) + num_class_dict[c]]\n",
    "            labels_syn += [c] * num_class_dict[c]\n",
    "\n",
    "    return n * ratio,labels_syn\n"
   ]
  },
  {
   "cell_type": "code",
   "execution_count": 4,
   "id": "fd691942",
   "metadata": {
    "ExecuteTime": {
     "end_time": "2023-06-20T06:35:09.557227Z",
     "start_time": "2023-06-20T06:35:09.541584Z"
    }
   },
   "outputs": [],
   "source": [
    "def loadCSV():\n",
    "\n",
    "    dictLabels = {}\n",
    "\n",
    "    # dictLabels（标签到子图的映射）、\n",
    "\n",
    "    with open(r\"../DATA/arxiv/train.csv\") as csvfile:\n",
    "        csvreader = csv.reader(csvfile, delimiter=',')\n",
    "        next(csvreader, None)  # skip (filename, label)\n",
    "        for i, row in enumerate(csvreader):\n",
    "            filename = row[1]\n",
    "            g_idx = int(filename.split('_')[0])\n",
    "            label = row[2]\n",
    "            # append filename to current label\n",
    "\n",
    "            if label in dictLabels.keys():\n",
    "                dictLabels[label].append(filename)\n",
    "            else:\n",
    "                dictLabels[label] = [filename]\n",
    "\n",
    "    return dictLabels"
   ]
  },
  {
   "cell_type": "code",
   "execution_count": 10,
   "id": "7f09b10a",
   "metadata": {
    "ExecuteTime": {
     "end_time": "2023-06-20T06:35:09.572850Z",
     "start_time": "2023-06-20T06:35:09.557227Z"
    }
   },
   "outputs": [],
   "source": [
    "import numpy as np\n",
    "\n",
    "def get_sub_adj_feat(features, labels_syn, label_dict):\n",
    "    idx_selected = []\n",
    "\n",
    "    from collections import Counter\n",
    "    counter = Counter(labels_syn.cpu().numpy())\n",
    "    selected_features = []\n",
    "    for c in counter.keys():\n",
    "        class_label = str(c)\n",
    "        if class_label in label_dict:\n",
    "            node_indices = [label_dict[class_label].index(node) for node in label_dict[class_label]]\n",
    "            num_features = counter[c]\n",
    "            selected_indices = np.random.choice(node_indices, size=num_features, replace=False)\n",
    "\n",
    "            idx_selected.extend(selected_indices)\n",
    "\n",
    "            selected_features.extend(features[selected_indices])\n",
    "\n",
    "    selected_features = np.array(selected_features)\n",
    "\n",
    "    return selected_features\n"
   ]
  },
  {
   "cell_type": "code",
   "execution_count": 11,
   "id": "187469ca",
   "metadata": {
    "ExecuteTime": {
     "end_time": "2023-06-20T13:42:18.229157Z",
     "start_time": "2023-06-20T13:42:18.126988Z"
    }
   },
   "outputs": [],
   "source": [
    "feat = np.load( r'../DATA/arxiv/features.npy', allow_pickle = True)"
   ]
  },
  {
   "cell_type": "code",
   "execution_count": 12,
   "id": "301bb838",
   "metadata": {
    "ExecuteTime": {
     "end_time": "2023-06-20T13:42:16.426338Z",
     "start_time": "2023-06-20T13:42:16.405390Z"
    }
   },
   "outputs": [
    {
     "data": {
      "text/plain": [
       "array([[-0.057943, -0.05253 , -0.072603, ...,  0.173364, -0.172796,\n",
       "        -0.140059],\n",
       "       [-0.1245  , -0.070665, -0.325202, ...,  0.068524, -0.372111,\n",
       "        -0.301036],\n",
       "       [-0.080242, -0.023328, -0.183787, ...,  0.109919,  0.117589,\n",
       "        -0.139883],\n",
       "       ...,\n",
       "       [-0.22053 , -0.036568, -0.402199, ...,  0.11336 , -0.161393,\n",
       "        -0.145171],\n",
       "       [-0.138236,  0.040885, -0.251811, ..., -0.08929 , -0.041253,\n",
       "        -0.376132],\n",
       "       [-0.029875,  0.268417, -0.161124, ...,  0.120807,  0.077647,\n",
       "        -0.091018]], dtype=float32)"
      ]
     },
     "execution_count": 12,
     "metadata": {},
     "output_type": "execute_result"
    }
   ],
   "source": [
    "feat"
   ]
  },
  {
   "cell_type": "code",
   "execution_count": 13,
   "id": "3ca365b5",
   "metadata": {
    "ExecuteTime": {
     "end_time": "2023-06-20T06:35:09.816742Z",
     "start_time": "2023-06-20T06:35:09.604516Z"
    }
   },
   "outputs": [],
   "source": [
    "n,labels_syn= generate_labels_from_csv(r'../DATA/arxiv/train.csv')"
   ]
  },
  {
   "cell_type": "code",
   "execution_count": 14,
   "id": "14814f34",
   "metadata": {},
   "outputs": [],
   "source": [
    "# 计算需要生成的synthetic graph的节点数\n",
    "n = int(n)\n",
    "# 获取特征维度\n",
    "d = 128\n",
    "device='cuda:4'\n",
    "# 初始化synthetic graph的节点数和特征\n",
    "nnodes_syn = n\n",
    "\n",
    "\n",
    "\n",
    "# 初始化PGE模型\n",
    "pge = PGE(nfeat=d, nnodes=n, device=device, args=args).to(device)\n",
    "\n",
    "# 生成synthetic graph的标签\n",
    "labels_syn = torch.LongTensor(labels_syn).to(device)\n",
    "\n",
    "dictLabels = loadCSV()\n",
    "feat_syn = torch.from_numpy(get_sub_adj_feat(feat, labels_syn, dictLabels)).to(device)"
   ]
  },
  {
   "cell_type": "code",
   "execution_count": 15,
   "id": "609e808b",
   "metadata": {
    "ExecuteTime": {
     "end_time": "2023-06-20T06:35:17.480233Z",
     "start_time": "2023-06-20T06:35:09.816742Z"
    }
   },
   "outputs": [
    {
     "name": "stdout",
     "output_type": "stream",
     "text": [
      "adj_syn: (1006, 1006) feat_syn: torch.Size([1006, 128])\n"
     ]
    }
   ],
   "source": [
    "\n",
    "\n",
    "# # 重置synthetic graph的特征\n",
    "# reset_parameters()\n",
    "\n",
    "# 初始化特征优化器和PGE模型优化器\n",
    "optimizer_feat = torch.optim.Adam([feat_syn], lr=0.01)\n",
    "optimizer_pge = torch.optim.Adam(pge.parameters(), lr=0.01)\n",
    "\n",
    "# 打印synthetic graph的节点数和特征维度\n",
    "print('adj_syn:', (n,n), 'feat_syn:', feat_syn.shape)"
   ]
  },
  {
   "cell_type": "code",
   "execution_count": 16,
   "id": "fe898b45",
   "metadata": {
    "ExecuteTime": {
     "end_time": "2023-06-20T06:35:17.495819Z",
     "start_time": "2023-06-20T06:35:17.480233Z"
    }
   },
   "outputs": [
    {
     "name": "stdout",
     "output_type": "stream",
     "text": [
      "Counter({24: 231, 28: 214, 8: 62, 4: 58, 5: 49, 27: 48, 2: 48, 26: 46, 9: 28, 31: 28, 23: 28, 13: 23, 39: 20, 20: 20, 3: 20, 22: 19, 25: 12, 33: 12, 18: 7, 1: 6, 17: 5, 0: 5, 7: 5, 15: 4, 32: 4, 29: 4})\n"
     ]
    }
   ],
   "source": [
    "from collections import Counter\n",
    "\n",
    "counter = Counter(labels_syn.tolist())\n",
    "\n",
    "print(counter)"
   ]
  },
  {
   "cell_type": "code",
   "execution_count": 17,
   "id": "42b75437",
   "metadata": {
    "ExecuteTime": {
     "end_time": "2023-06-20T06:35:19.857873Z",
     "start_time": "2023-06-20T06:35:17.495819Z"
    }
   },
   "outputs": [],
   "source": [
    "adj_syn = pge(feat_syn)\n",
    "# adj_syn_norm = utils.normalize_adj_tensor(adj_syn, sparse=False)"
   ]
  },
  {
   "cell_type": "code",
   "execution_count": 18,
   "id": "2d8c0494",
   "metadata": {
    "ExecuteTime": {
     "end_time": "2023-06-20T06:35:19.873104Z",
     "start_time": "2023-06-20T06:35:19.859868Z"
    }
   },
   "outputs": [],
   "source": [
    "adj_syn[adj_syn < 0.5] = 0\n",
    "adj_syn[adj_syn >= 0.5] = 1"
   ]
  },
  {
   "cell_type": "code",
   "execution_count": 19,
   "id": "909ec49d",
   "metadata": {
    "ExecuteTime": {
     "end_time": "2023-06-20T06:35:19.943739Z",
     "start_time": "2023-06-20T06:35:19.875097Z"
    }
   },
   "outputs": [],
   "source": [
    "\n",
    "adj_syn_norm_sp = sp.csr_matrix(adj_syn.cpu().detach().numpy())\n",
    "g = dgl.from_scipy(adj_syn_norm_sp) # 生成的合成图太过密集，导致二跳子图约等于全图\n"
   ]
  },
  {
   "cell_type": "code",
   "execution_count": 20,
   "id": "3ae416e1",
   "metadata": {
    "ExecuteTime": {
     "end_time": "2023-06-20T06:35:19.959364Z",
     "start_time": "2023-06-20T06:35:19.943739Z"
    }
   },
   "outputs": [
    {
     "data": {
      "text/plain": [
       "Graph(num_nodes=1006, num_edges=651330,\n",
       "      ndata_schemes={}\n",
       "      edata_schemes={})"
      ]
     },
     "execution_count": 20,
     "metadata": {},
     "output_type": "execute_result"
    }
   ],
   "source": [
    "g"
   ]
  },
  {
   "cell_type": "code",
   "execution_count": 21,
   "id": "40e5c397",
   "metadata": {
    "ExecuteTime": {
     "end_time": "2023-06-20T06:35:20.006228Z",
     "start_time": "2023-06-20T06:35:19.959364Z"
    }
   },
   "outputs": [],
   "source": [
    "# 将labels_syn转换为dictLabels形式的字典\n",
    "dict_labels = {f\"0_{i}\": labels_syn[i].item() for i in range(len(labels_syn))}"
   ]
  },
  {
   "cell_type": "code",
   "execution_count": 22,
   "id": "e66baf88",
   "metadata": {
    "ExecuteTime": {
     "end_time": "2023-06-20T06:35:20.053484Z",
     "start_time": "2023-06-20T06:35:20.006228Z"
    }
   },
   "outputs": [
    {
     "name": "stdout",
     "output_type": "stream",
     "text": [
      "shuffle DB :syn, b:100, 3-way, 1-shot, 3-query, 2-hops\n"
     ]
    }
   ],
   "source": [
    "db_val = Subgraphs_syn('syn', dict_labels, n_way=args.n_way, k_shot=args.k_spt,k_query=args.k_qry, batchsz=100, args = args, adjs = g, h = args.h, labels = labels_syn)"
   ]
  },
  {
   "cell_type": "code",
   "execution_count": 23,
   "id": "f8ec5695",
   "metadata": {},
   "outputs": [
    {
     "name": "stdout",
     "output_type": "stream",
     "text": [
      "step: 0 \n",
      "\n",
      "x_spt: Graph(num_nodes=902, num_edges=169856,\n",
      "      ndata_schemes={'_ID': Scheme(shape=(), dtype=torch.int64)}\n",
      "      edata_schemes={'_ID': Scheme(shape=(), dtype=torch.int64)}) \n",
      "\n",
      "step: 1 \n",
      "\n",
      "x_spt: Graph(num_nodes=902, num_edges=178680,\n",
      "      ndata_schemes={'_ID': Scheme(shape=(), dtype=torch.int64)}\n",
      "      edata_schemes={'_ID': Scheme(shape=(), dtype=torch.int64)}) \n",
      "\n",
      "step: 2 \n",
      "\n",
      "x_spt: Graph(num_nodes=903, num_edges=172894,\n",
      "      ndata_schemes={'_ID': Scheme(shape=(), dtype=torch.int64)}\n",
      "      edata_schemes={'_ID': Scheme(shape=(), dtype=torch.int64)}) \n",
      "\n"
     ]
    },
    {
     "ename": "KeyboardInterrupt",
     "evalue": "",
     "output_type": "error",
     "traceback": [
      "\u001b[0;31m---------------------------------------------------------------------------\u001b[0m",
      "\u001b[0;31mKeyboardInterrupt\u001b[0m                         Traceback (most recent call last)",
      "Cell \u001b[0;32mIn[23], line 1\u001b[0m\n\u001b[0;32m----> 1\u001b[0m \u001b[39mfor\u001b[39;00m step, (x_spt, y_spt, x_qry, y_qry, c_spt, c_qry, n_spt, n_qry, g_spt, g_qry) \u001b[39min\u001b[39;00m \u001b[39menumerate\u001b[39m(db_val): \u001b[39m# 处理每个任务\u001b[39;00m\n\u001b[1;32m      2\u001b[0m     \u001b[39mprint\u001b[39m(\u001b[39m'\u001b[39m\u001b[39mstep:\u001b[39m\u001b[39m'\u001b[39m, step, \u001b[39m'\u001b[39m\u001b[39m\\n\u001b[39;00m\u001b[39m'\u001b[39m)\n\u001b[1;32m      3\u001b[0m     \u001b[39mprint\u001b[39m(\u001b[39m'\u001b[39m\u001b[39mx_spt:\u001b[39m\u001b[39m'\u001b[39m, x_spt,\u001b[39m'\u001b[39m\u001b[39m\\n\u001b[39;00m\u001b[39m'\u001b[39m)\n",
      "File \u001b[0;32m~/ztl_project/Graph_DD/META-DD/G-Meta/subgraph_data_processing.py:388\u001b[0m, in \u001b[0;36mSubgraphs_syn.__getitem__\u001b[0;34m(self, index)\u001b[0m\n\u001b[1;32m    384\u001b[0m support_center \u001b[39m=\u001b[39m np\u001b[39m.\u001b[39marray([j \u001b[39mfor\u001b[39;00m i, j, k \u001b[39min\u001b[39;00m info])\u001b[39m.\u001b[39mastype(np\u001b[39m.\u001b[39mint32)\n\u001b[1;32m    385\u001b[0m support_node_idx \u001b[39m=\u001b[39m [k \u001b[39mfor\u001b[39;00m i, j, k \u001b[39min\u001b[39;00m info]\n\u001b[0;32m--> 388\u001b[0m info \u001b[39m=\u001b[39m [\u001b[39mself\u001b[39m\u001b[39m.\u001b[39mgenerate_subgraph(\u001b[39mself\u001b[39m\u001b[39m.\u001b[39mG[\u001b[39mint\u001b[39m(item\u001b[39m.\u001b[39msplit(\u001b[39m'\u001b[39m\u001b[39m_\u001b[39m\u001b[39m'\u001b[39m)[\u001b[39m0\u001b[39m])], \u001b[39mint\u001b[39m(item\u001b[39m.\u001b[39msplit(\u001b[39m'\u001b[39m\u001b[39m_\u001b[39m\u001b[39m'\u001b[39m)[\u001b[39m1\u001b[39m]), item)\n\u001b[1;32m    389\u001b[0m             \u001b[39mfor\u001b[39;00m sublist \u001b[39min\u001b[39;00m \u001b[39mself\u001b[39m\u001b[39m.\u001b[39mquery_x_batch[index] \u001b[39mfor\u001b[39;00m item \u001b[39min\u001b[39;00m sublist]\n\u001b[1;32m    391\u001b[0m query_graph_idx \u001b[39m=\u001b[39m [\u001b[39mint\u001b[39m(item\u001b[39m.\u001b[39msplit(\u001b[39m'\u001b[39m\u001b[39m_\u001b[39m\u001b[39m'\u001b[39m)[\u001b[39m0\u001b[39m])  \u001b[39m# obtain a list of DGL subgraphs\u001b[39;00m\n\u001b[1;32m    392\u001b[0m                      \u001b[39mfor\u001b[39;00m sublist \u001b[39min\u001b[39;00m \u001b[39mself\u001b[39m\u001b[39m.\u001b[39mquery_x_batch[index] \u001b[39mfor\u001b[39;00m item \u001b[39min\u001b[39;00m sublist]\n\u001b[1;32m    394\u001b[0m query_x \u001b[39m=\u001b[39m [i \u001b[39mfor\u001b[39;00m i, j, k \u001b[39min\u001b[39;00m info]\n",
      "File \u001b[0;32m~/ztl_project/Graph_DD/META-DD/G-Meta/subgraph_data_processing.py:388\u001b[0m, in \u001b[0;36m<listcomp>\u001b[0;34m(.0)\u001b[0m\n\u001b[1;32m    384\u001b[0m support_center \u001b[39m=\u001b[39m np\u001b[39m.\u001b[39marray([j \u001b[39mfor\u001b[39;00m i, j, k \u001b[39min\u001b[39;00m info])\u001b[39m.\u001b[39mastype(np\u001b[39m.\u001b[39mint32)\n\u001b[1;32m    385\u001b[0m support_node_idx \u001b[39m=\u001b[39m [k \u001b[39mfor\u001b[39;00m i, j, k \u001b[39min\u001b[39;00m info]\n\u001b[0;32m--> 388\u001b[0m info \u001b[39m=\u001b[39m [\u001b[39mself\u001b[39;49m\u001b[39m.\u001b[39;49mgenerate_subgraph(\u001b[39mself\u001b[39;49m\u001b[39m.\u001b[39;49mG[\u001b[39mint\u001b[39;49m(item\u001b[39m.\u001b[39;49msplit(\u001b[39m'\u001b[39;49m\u001b[39m_\u001b[39;49m\u001b[39m'\u001b[39;49m)[\u001b[39m0\u001b[39;49m])], \u001b[39mint\u001b[39;49m(item\u001b[39m.\u001b[39;49msplit(\u001b[39m'\u001b[39;49m\u001b[39m_\u001b[39;49m\u001b[39m'\u001b[39;49m)[\u001b[39m1\u001b[39;49m]), item)\n\u001b[1;32m    389\u001b[0m             \u001b[39mfor\u001b[39;00m sublist \u001b[39min\u001b[39;00m \u001b[39mself\u001b[39m\u001b[39m.\u001b[39mquery_x_batch[index] \u001b[39mfor\u001b[39;00m item \u001b[39min\u001b[39;00m sublist]\n\u001b[1;32m    391\u001b[0m query_graph_idx \u001b[39m=\u001b[39m [\u001b[39mint\u001b[39m(item\u001b[39m.\u001b[39msplit(\u001b[39m'\u001b[39m\u001b[39m_\u001b[39m\u001b[39m'\u001b[39m)[\u001b[39m0\u001b[39m])  \u001b[39m# obtain a list of DGL subgraphs\u001b[39;00m\n\u001b[1;32m    392\u001b[0m                      \u001b[39mfor\u001b[39;00m sublist \u001b[39min\u001b[39;00m \u001b[39mself\u001b[39m\u001b[39m.\u001b[39mquery_x_batch[index] \u001b[39mfor\u001b[39;00m item \u001b[39min\u001b[39;00m sublist]\n\u001b[1;32m    394\u001b[0m query_x \u001b[39m=\u001b[39m [i \u001b[39mfor\u001b[39;00m i, j, k \u001b[39min\u001b[39;00m info]\n",
      "File \u001b[0;32m~/ztl_project/Graph_DD/META-DD/G-Meta/subgraph_data_processing.py:335\u001b[0m, in \u001b[0;36mSubgraphs_syn.generate_subgraph\u001b[0;34m(self, G, i, item)\u001b[0m\n\u001b[1;32m    332\u001b[0m \u001b[39mif\u001b[39;00m \u001b[39mself\u001b[39m\u001b[39m.\u001b[39mh \u001b[39m==\u001b[39m \u001b[39m2\u001b[39m:\n\u001b[1;32m    333\u001b[0m     \u001b[39m# 计算节点i的一阶邻居和二阶邻居（两跳邻居），并将它们与节点i一起存储在h_hops_neighbor中\u001b[39;00m\n\u001b[1;32m    334\u001b[0m     f_hop \u001b[39m=\u001b[39m [n\u001b[39m.\u001b[39mitem() \u001b[39mfor\u001b[39;00m n \u001b[39min\u001b[39;00m G\u001b[39m.\u001b[39min_edges(i)[\u001b[39m0\u001b[39m]]\n\u001b[0;32m--> 335\u001b[0m     n_l \u001b[39m=\u001b[39m [[n\u001b[39m.\u001b[39mitem() \u001b[39mfor\u001b[39;00m n \u001b[39min\u001b[39;00m G\u001b[39m.\u001b[39min_edges(i)[\u001b[39m0\u001b[39m]] \u001b[39mfor\u001b[39;00m i \u001b[39min\u001b[39;00m f_hop]\n\u001b[1;32m    336\u001b[0m     h_hops_neighbor \u001b[39m=\u001b[39m torch\u001b[39m.\u001b[39mtensor(\u001b[39mlist\u001b[39m(\u001b[39mset\u001b[39m(\u001b[39mlist\u001b[39m(itertools\u001b[39m.\u001b[39mchain(\u001b[39m*\u001b[39mn_l)) \u001b[39m+\u001b[39m f_hop \u001b[39m+\u001b[39m [i])))\u001b[39m.\u001b[39mnumpy()\n\u001b[1;32m    337\u001b[0m \u001b[39melif\u001b[39;00m \u001b[39mself\u001b[39m\u001b[39m.\u001b[39mh \u001b[39m==\u001b[39m \u001b[39m1\u001b[39m:\n\u001b[1;32m    338\u001b[0m     \u001b[39m# 计算节点i的一阶邻居（一跳邻居），并将它们与节点i一起存储在h_hops_neighbor中\u001b[39;00m\n",
      "File \u001b[0;32m~/ztl_project/Graph_DD/META-DD/G-Meta/subgraph_data_processing.py:335\u001b[0m, in \u001b[0;36m<listcomp>\u001b[0;34m(.0)\u001b[0m\n\u001b[1;32m    332\u001b[0m \u001b[39mif\u001b[39;00m \u001b[39mself\u001b[39m\u001b[39m.\u001b[39mh \u001b[39m==\u001b[39m \u001b[39m2\u001b[39m:\n\u001b[1;32m    333\u001b[0m     \u001b[39m# 计算节点i的一阶邻居和二阶邻居（两跳邻居），并将它们与节点i一起存储在h_hops_neighbor中\u001b[39;00m\n\u001b[1;32m    334\u001b[0m     f_hop \u001b[39m=\u001b[39m [n\u001b[39m.\u001b[39mitem() \u001b[39mfor\u001b[39;00m n \u001b[39min\u001b[39;00m G\u001b[39m.\u001b[39min_edges(i)[\u001b[39m0\u001b[39m]]\n\u001b[0;32m--> 335\u001b[0m     n_l \u001b[39m=\u001b[39m [[n\u001b[39m.\u001b[39mitem() \u001b[39mfor\u001b[39;00m n \u001b[39min\u001b[39;00m G\u001b[39m.\u001b[39min_edges(i)[\u001b[39m0\u001b[39m]] \u001b[39mfor\u001b[39;00m i \u001b[39min\u001b[39;00m f_hop]\n\u001b[1;32m    336\u001b[0m     h_hops_neighbor \u001b[39m=\u001b[39m torch\u001b[39m.\u001b[39mtensor(\u001b[39mlist\u001b[39m(\u001b[39mset\u001b[39m(\u001b[39mlist\u001b[39m(itertools\u001b[39m.\u001b[39mchain(\u001b[39m*\u001b[39mn_l)) \u001b[39m+\u001b[39m f_hop \u001b[39m+\u001b[39m [i])))\u001b[39m.\u001b[39mnumpy()\n\u001b[1;32m    337\u001b[0m \u001b[39melif\u001b[39;00m \u001b[39mself\u001b[39m\u001b[39m.\u001b[39mh \u001b[39m==\u001b[39m \u001b[39m1\u001b[39m:\n\u001b[1;32m    338\u001b[0m     \u001b[39m# 计算节点i的一阶邻居（一跳邻居），并将它们与节点i一起存储在h_hops_neighbor中\u001b[39;00m\n",
      "File \u001b[0;32m~/ztl_project/Graph_DD/META-DD/G-Meta/subgraph_data_processing.py:335\u001b[0m, in \u001b[0;36m<listcomp>\u001b[0;34m(.0)\u001b[0m\n\u001b[1;32m    332\u001b[0m \u001b[39mif\u001b[39;00m \u001b[39mself\u001b[39m\u001b[39m.\u001b[39mh \u001b[39m==\u001b[39m \u001b[39m2\u001b[39m:\n\u001b[1;32m    333\u001b[0m     \u001b[39m# 计算节点i的一阶邻居和二阶邻居（两跳邻居），并将它们与节点i一起存储在h_hops_neighbor中\u001b[39;00m\n\u001b[1;32m    334\u001b[0m     f_hop \u001b[39m=\u001b[39m [n\u001b[39m.\u001b[39mitem() \u001b[39mfor\u001b[39;00m n \u001b[39min\u001b[39;00m G\u001b[39m.\u001b[39min_edges(i)[\u001b[39m0\u001b[39m]]\n\u001b[0;32m--> 335\u001b[0m     n_l \u001b[39m=\u001b[39m [[n\u001b[39m.\u001b[39;49mitem() \u001b[39mfor\u001b[39;00m n \u001b[39min\u001b[39;00m G\u001b[39m.\u001b[39min_edges(i)[\u001b[39m0\u001b[39m]] \u001b[39mfor\u001b[39;00m i \u001b[39min\u001b[39;00m f_hop]\n\u001b[1;32m    336\u001b[0m     h_hops_neighbor \u001b[39m=\u001b[39m torch\u001b[39m.\u001b[39mtensor(\u001b[39mlist\u001b[39m(\u001b[39mset\u001b[39m(\u001b[39mlist\u001b[39m(itertools\u001b[39m.\u001b[39mchain(\u001b[39m*\u001b[39mn_l)) \u001b[39m+\u001b[39m f_hop \u001b[39m+\u001b[39m [i])))\u001b[39m.\u001b[39mnumpy()\n\u001b[1;32m    337\u001b[0m \u001b[39melif\u001b[39;00m \u001b[39mself\u001b[39m\u001b[39m.\u001b[39mh \u001b[39m==\u001b[39m \u001b[39m1\u001b[39m:\n\u001b[1;32m    338\u001b[0m     \u001b[39m# 计算节点i的一阶邻居（一跳邻居），并将它们与节点i一起存储在h_hops_neighbor中\u001b[39;00m\n",
      "\u001b[0;31mKeyboardInterrupt\u001b[0m: "
     ]
    }
   ],
   "source": [
    "for step, (x_spt, y_spt, x_qry, y_qry, c_spt, c_qry, n_spt, n_qry, g_spt, g_qry) in enumerate(db_val): # 处理每个任务\n",
    "    print('step:', step, '\\n')\n",
    "    print('x_spt:', x_spt,'\\n')"
   ]
  },
  {
   "cell_type": "code",
   "execution_count": null,
   "id": "65de287e",
   "metadata": {},
   "outputs": [],
   "source": []
  },
  {
   "cell_type": "code",
   "execution_count": null,
   "id": "36d52db2",
   "metadata": {},
   "outputs": [],
   "source": []
  },
  {
   "cell_type": "code",
   "execution_count": null,
   "id": "ae54c21a",
   "metadata": {},
   "outputs": [],
   "source": []
  },
  {
   "cell_type": "code",
   "execution_count": 16,
   "id": "07309a8a",
   "metadata": {
    "ExecuteTime": {
     "end_time": "2023-06-20T06:35:20.069105Z",
     "start_time": "2023-06-20T06:35:20.053484Z"
    }
   },
   "outputs": [],
   "source": [
    "def collate(samples):\n",
    "        graphs_spt, labels_spt, graph_qry, labels_qry, center_spt, center_qry, nodeidx_spt, nodeidx_qry, support_graph_idx, query_graph_idx = map(list, zip(*samples))\n",
    "\n",
    "        return graphs_spt, labels_spt, graph_qry, labels_qry, center_spt, center_qry, nodeidx_spt, nodeidx_qry, support_graph_idx, query_graph_idx\n"
   ]
  },
  {
   "cell_type": "code",
   "execution_count": 17,
   "id": "835de356",
   "metadata": {
    "ExecuteTime": {
     "end_time": "2023-06-20T06:35:20.084377Z",
     "start_time": "2023-06-20T06:35:20.069105Z"
    }
   },
   "outputs": [],
   "source": [
    "db = DataLoader(db_val, args.task_num, shuffle=True, num_workers=args.num_workers, pin_memory=True, collate_fn = collate)"
   ]
  },
  {
   "cell_type": "code",
   "execution_count": 18,
   "id": "2df8b6dc",
   "metadata": {
    "ExecuteTime": {
     "end_time": "2023-06-20T06:35:20.105659Z",
     "start_time": "2023-06-20T06:35:20.086585Z"
    }
   },
   "outputs": [
    {
     "name": "stdout",
     "output_type": "stream",
     "text": [
      "Number of steps: 4\n"
     ]
    }
   ],
   "source": [
    "num_steps = len(db)\n",
    "print(\"Number of steps:\", num_steps)\n"
   ]
  },
  {
   "cell_type": "code",
   "execution_count": 19,
   "id": "996ee3e8",
   "metadata": {
    "ExecuteTime": {
     "end_time": "2023-06-20T06:42:30.731428Z",
     "start_time": "2023-06-20T06:35:20.106888Z"
    }
   },
   "outputs": [
    {
     "name": "stdout",
     "output_type": "stream",
     "text": [
      "begin1\n",
      "Graph(num_nodes=301, num_edges=48366,\n",
      "      ndata_schemes={'_ID': Scheme(shape=(), dtype=torch.int64)}\n",
      "      edata_schemes={'_ID': Scheme(shape=(), dtype=torch.int64)})\n",
      "Graph(num_nodes=300, num_edges=45310,\n",
      "      ndata_schemes={'_ID': Scheme(shape=(), dtype=torch.int64)}\n",
      "      edata_schemes={'_ID': Scheme(shape=(), dtype=torch.int64)})\n",
      "Graph(num_nodes=300, num_edges=46704,\n",
      "      ndata_schemes={'_ID': Scheme(shape=(), dtype=torch.int64)}\n",
      "      edata_schemes={'_ID': Scheme(shape=(), dtype=torch.int64)})\n",
      "end1\n",
      "Graph(num_nodes=300, num_edges=50214,\n",
      "      ndata_schemes={'_ID': Scheme(shape=(), dtype=torch.int64)}\n",
      "      edata_schemes={'_ID': Scheme(shape=(), dtype=torch.int64)})\n",
      "Graph(num_nodes=300, num_edges=44544,\n",
      "      ndata_schemes={'_ID': Scheme(shape=(), dtype=torch.int64)}\n",
      "      edata_schemes={'_ID': Scheme(shape=(), dtype=torch.int64)})\n",
      "Graph(num_nodes=300, num_edges=51886,\n",
      "      ndata_schemes={'_ID': Scheme(shape=(), dtype=torch.int64)}\n",
      "      edata_schemes={'_ID': Scheme(shape=(), dtype=torch.int64)})\n",
      "Graph(num_nodes=300, num_edges=46096,\n",
      "      ndata_schemes={'_ID': Scheme(shape=(), dtype=torch.int64)}\n",
      "      edata_schemes={'_ID': Scheme(shape=(), dtype=torch.int64)})\n",
      "Graph(num_nodes=301, num_edges=47372,\n",
      "      ndata_schemes={'_ID': Scheme(shape=(), dtype=torch.int64)}\n",
      "      edata_schemes={'_ID': Scheme(shape=(), dtype=torch.int64)})\n",
      "Graph(num_nodes=301, num_edges=47826,\n",
      "      ndata_schemes={'_ID': Scheme(shape=(), dtype=torch.int64)}\n",
      "      edata_schemes={'_ID': Scheme(shape=(), dtype=torch.int64)})\n",
      "Graph(num_nodes=300, num_edges=47038,\n",
      "      ndata_schemes={'_ID': Scheme(shape=(), dtype=torch.int64)}\n",
      "      edata_schemes={'_ID': Scheme(shape=(), dtype=torch.int64)})\n",
      "Graph(num_nodes=301, num_edges=44808,\n",
      "      ndata_schemes={'_ID': Scheme(shape=(), dtype=torch.int64)}\n",
      "      edata_schemes={'_ID': Scheme(shape=(), dtype=torch.int64)})\n",
      "Graph(num_nodes=301, num_edges=46298,\n",
      "      ndata_schemes={'_ID': Scheme(shape=(), dtype=torch.int64)}\n",
      "      edata_schemes={'_ID': Scheme(shape=(), dtype=torch.int64)})\n",
      "begin1\n",
      "Graph(num_nodes=301, num_edges=47788,\n",
      "      ndata_schemes={'_ID': Scheme(shape=(), dtype=torch.int64)}\n",
      "      edata_schemes={'_ID': Scheme(shape=(), dtype=torch.int64)})\n",
      "Graph(num_nodes=301, num_edges=46940,\n",
      "      ndata_schemes={'_ID': Scheme(shape=(), dtype=torch.int64)}\n",
      "      edata_schemes={'_ID': Scheme(shape=(), dtype=torch.int64)})\n",
      "Graph(num_nodes=300, num_edges=47600,\n",
      "      ndata_schemes={'_ID': Scheme(shape=(), dtype=torch.int64)}\n",
      "      edata_schemes={'_ID': Scheme(shape=(), dtype=torch.int64)})\n",
      "end1\n",
      "Graph(num_nodes=301, num_edges=46678,\n",
      "      ndata_schemes={'_ID': Scheme(shape=(), dtype=torch.int64)}\n",
      "      edata_schemes={'_ID': Scheme(shape=(), dtype=torch.int64)})\n",
      "Graph(num_nodes=301, num_edges=48570,\n",
      "      ndata_schemes={'_ID': Scheme(shape=(), dtype=torch.int64)}\n",
      "      edata_schemes={'_ID': Scheme(shape=(), dtype=torch.int64)})\n",
      "Graph(num_nodes=301, num_edges=46434,\n",
      "      ndata_schemes={'_ID': Scheme(shape=(), dtype=torch.int64)}\n",
      "      edata_schemes={'_ID': Scheme(shape=(), dtype=torch.int64)})\n",
      "Graph(num_nodes=301, num_edges=40178,\n",
      "      ndata_schemes={'_ID': Scheme(shape=(), dtype=torch.int64)}\n",
      "      edata_schemes={'_ID': Scheme(shape=(), dtype=torch.int64)})\n",
      "Graph(num_nodes=301, num_edges=48564,\n",
      "      ndata_schemes={'_ID': Scheme(shape=(), dtype=torch.int64)}\n",
      "      edata_schemes={'_ID': Scheme(shape=(), dtype=torch.int64)})\n",
      "Graph(num_nodes=300, num_edges=44558,\n",
      "      ndata_schemes={'_ID': Scheme(shape=(), dtype=torch.int64)}\n",
      "      edata_schemes={'_ID': Scheme(shape=(), dtype=torch.int64)})\n",
      "Graph(num_nodes=301, num_edges=47150,\n",
      "      ndata_schemes={'_ID': Scheme(shape=(), dtype=torch.int64)}\n",
      "      edata_schemes={'_ID': Scheme(shape=(), dtype=torch.int64)})\n",
      "Graph(num_nodes=301, num_edges=49140,\n",
      "      ndata_schemes={'_ID': Scheme(shape=(), dtype=torch.int64)}\n",
      "      edata_schemes={'_ID': Scheme(shape=(), dtype=torch.int64)})\n",
      "Graph(num_nodes=301, num_edges=46310,\n",
      "      ndata_schemes={'_ID': Scheme(shape=(), dtype=torch.int64)}\n",
      "      edata_schemes={'_ID': Scheme(shape=(), dtype=torch.int64)})\n",
      "begin1\n",
      "Graph(num_nodes=300, num_edges=48412,\n",
      "      ndata_schemes={'_ID': Scheme(shape=(), dtype=torch.int64)}\n",
      "      edata_schemes={'_ID': Scheme(shape=(), dtype=torch.int64)})\n",
      "Graph(num_nodes=301, num_edges=47712,\n",
      "      ndata_schemes={'_ID': Scheme(shape=(), dtype=torch.int64)}\n",
      "      edata_schemes={'_ID': Scheme(shape=(), dtype=torch.int64)})\n",
      "Graph(num_nodes=301, num_edges=44726,\n",
      "      ndata_schemes={'_ID': Scheme(shape=(), dtype=torch.int64)}\n",
      "      edata_schemes={'_ID': Scheme(shape=(), dtype=torch.int64)})\n",
      "end1\n",
      "Graph(num_nodes=300, num_edges=44880,\n",
      "      ndata_schemes={'_ID': Scheme(shape=(), dtype=torch.int64)}\n",
      "      edata_schemes={'_ID': Scheme(shape=(), dtype=torch.int64)})\n",
      "Graph(num_nodes=300, num_edges=45368,\n",
      "      ndata_schemes={'_ID': Scheme(shape=(), dtype=torch.int64)}\n",
      "      edata_schemes={'_ID': Scheme(shape=(), dtype=torch.int64)})\n",
      "Graph(num_nodes=301, num_edges=48978,\n",
      "      ndata_schemes={'_ID': Scheme(shape=(), dtype=torch.int64)}\n",
      "      edata_schemes={'_ID': Scheme(shape=(), dtype=torch.int64)})\n",
      "Graph(num_nodes=301, num_edges=51256,\n",
      "      ndata_schemes={'_ID': Scheme(shape=(), dtype=torch.int64)}\n",
      "      edata_schemes={'_ID': Scheme(shape=(), dtype=torch.int64)})\n",
      "Graph(num_nodes=301, num_edges=46906,\n",
      "      ndata_schemes={'_ID': Scheme(shape=(), dtype=torch.int64)}\n",
      "      edata_schemes={'_ID': Scheme(shape=(), dtype=torch.int64)})\n",
      "Graph(num_nodes=301, num_edges=49024,\n",
      "      ndata_schemes={'_ID': Scheme(shape=(), dtype=torch.int64)}\n",
      "      edata_schemes={'_ID': Scheme(shape=(), dtype=torch.int64)})\n",
      "Graph(num_nodes=301, num_edges=46690,\n",
      "      ndata_schemes={'_ID': Scheme(shape=(), dtype=torch.int64)}\n",
      "      edata_schemes={'_ID': Scheme(shape=(), dtype=torch.int64)})\n",
      "Graph(num_nodes=301, num_edges=47352,\n",
      "      ndata_schemes={'_ID': Scheme(shape=(), dtype=torch.int64)}\n",
      "      edata_schemes={'_ID': Scheme(shape=(), dtype=torch.int64)})\n",
      "Graph(num_nodes=301, num_edges=50942,\n",
      "      ndata_schemes={'_ID': Scheme(shape=(), dtype=torch.int64)}\n",
      "      edata_schemes={'_ID': Scheme(shape=(), dtype=torch.int64)})\n",
      "begin1\n",
      "Graph(num_nodes=301, num_edges=50420,\n",
      "      ndata_schemes={'_ID': Scheme(shape=(), dtype=torch.int64)}\n",
      "      edata_schemes={'_ID': Scheme(shape=(), dtype=torch.int64)})\n",
      "Graph(num_nodes=301, num_edges=51306,\n",
      "      ndata_schemes={'_ID': Scheme(shape=(), dtype=torch.int64)}\n",
      "      edata_schemes={'_ID': Scheme(shape=(), dtype=torch.int64)})\n",
      "Graph(num_nodes=301, num_edges=46058,\n",
      "      ndata_schemes={'_ID': Scheme(shape=(), dtype=torch.int64)}\n",
      "      edata_schemes={'_ID': Scheme(shape=(), dtype=torch.int64)})\n",
      "end1\n",
      "Graph(num_nodes=301, num_edges=48174,\n",
      "      ndata_schemes={'_ID': Scheme(shape=(), dtype=torch.int64)}\n",
      "      edata_schemes={'_ID': Scheme(shape=(), dtype=torch.int64)})\n",
      "Graph(num_nodes=301, num_edges=43712,\n",
      "      ndata_schemes={'_ID': Scheme(shape=(), dtype=torch.int64)}\n",
      "      edata_schemes={'_ID': Scheme(shape=(), dtype=torch.int64)})\n",
      "Graph(num_nodes=301, num_edges=48602,\n",
      "      ndata_schemes={'_ID': Scheme(shape=(), dtype=torch.int64)}\n",
      "      edata_schemes={'_ID': Scheme(shape=(), dtype=torch.int64)})\n",
      "Graph(num_nodes=300, num_edges=46094,\n",
      "      ndata_schemes={'_ID': Scheme(shape=(), dtype=torch.int64)}\n",
      "      edata_schemes={'_ID': Scheme(shape=(), dtype=torch.int64)})\n",
      "Graph(num_nodes=300, num_edges=50522,\n",
      "      ndata_schemes={'_ID': Scheme(shape=(), dtype=torch.int64)}\n",
      "      edata_schemes={'_ID': Scheme(shape=(), dtype=torch.int64)})\n",
      "Graph(num_nodes=301, num_edges=48924,\n",
      "      ndata_schemes={'_ID': Scheme(shape=(), dtype=torch.int64)}\n",
      "      edata_schemes={'_ID': Scheme(shape=(), dtype=torch.int64)})\n",
      "Graph(num_nodes=301, num_edges=45442,\n",
      "      ndata_schemes={'_ID': Scheme(shape=(), dtype=torch.int64)}\n",
      "      edata_schemes={'_ID': Scheme(shape=(), dtype=torch.int64)})\n",
      "Graph(num_nodes=301, num_edges=45880,\n",
      "      ndata_schemes={'_ID': Scheme(shape=(), dtype=torch.int64)}\n",
      "      edata_schemes={'_ID': Scheme(shape=(), dtype=torch.int64)})\n",
      "Graph(num_nodes=301, num_edges=47992,\n",
      "      ndata_schemes={'_ID': Scheme(shape=(), dtype=torch.int64)}\n",
      "      edata_schemes={'_ID': Scheme(shape=(), dtype=torch.int64)})\n",
      "begin1\n",
      "Graph(num_nodes=300, num_edges=46726,\n",
      "      ndata_schemes={'_ID': Scheme(shape=(), dtype=torch.int64)}\n",
      "      edata_schemes={'_ID': Scheme(shape=(), dtype=torch.int64)})\n"
     ]
    },
    {
     "name": "stdout",
     "output_type": "stream",
     "text": [
      "Graph(num_nodes=300, num_edges=44232,\n",
      "      ndata_schemes={'_ID': Scheme(shape=(), dtype=torch.int64)}\n",
      "      edata_schemes={'_ID': Scheme(shape=(), dtype=torch.int64)})\n",
      "Graph(num_nodes=301, num_edges=46484,\n",
      "      ndata_schemes={'_ID': Scheme(shape=(), dtype=torch.int64)}\n",
      "      edata_schemes={'_ID': Scheme(shape=(), dtype=torch.int64)})\n",
      "end1\n",
      "Graph(num_nodes=300, num_edges=42968,\n",
      "      ndata_schemes={'_ID': Scheme(shape=(), dtype=torch.int64)}\n",
      "      edata_schemes={'_ID': Scheme(shape=(), dtype=torch.int64)})\n",
      "Graph(num_nodes=301, num_edges=44930,\n",
      "      ndata_schemes={'_ID': Scheme(shape=(), dtype=torch.int64)}\n",
      "      edata_schemes={'_ID': Scheme(shape=(), dtype=torch.int64)})\n",
      "Graph(num_nodes=301, num_edges=45726,\n",
      "      ndata_schemes={'_ID': Scheme(shape=(), dtype=torch.int64)}\n",
      "      edata_schemes={'_ID': Scheme(shape=(), dtype=torch.int64)})\n",
      "Graph(num_nodes=301, num_edges=47426,\n",
      "      ndata_schemes={'_ID': Scheme(shape=(), dtype=torch.int64)}\n",
      "      edata_schemes={'_ID': Scheme(shape=(), dtype=torch.int64)})\n",
      "Graph(num_nodes=301, num_edges=48454,\n",
      "      ndata_schemes={'_ID': Scheme(shape=(), dtype=torch.int64)}\n",
      "      edata_schemes={'_ID': Scheme(shape=(), dtype=torch.int64)})\n",
      "Graph(num_nodes=301, num_edges=42966,\n",
      "      ndata_schemes={'_ID': Scheme(shape=(), dtype=torch.int64)}\n",
      "      edata_schemes={'_ID': Scheme(shape=(), dtype=torch.int64)})\n",
      "Graph(num_nodes=301, num_edges=46778,\n",
      "      ndata_schemes={'_ID': Scheme(shape=(), dtype=torch.int64)}\n",
      "      edata_schemes={'_ID': Scheme(shape=(), dtype=torch.int64)})\n",
      "Graph(num_nodes=301, num_edges=47518,\n",
      "      ndata_schemes={'_ID': Scheme(shape=(), dtype=torch.int64)}\n",
      "      edata_schemes={'_ID': Scheme(shape=(), dtype=torch.int64)})\n",
      "Graph(num_nodes=301, num_edges=42152,\n",
      "      ndata_schemes={'_ID': Scheme(shape=(), dtype=torch.int64)}\n",
      "      edata_schemes={'_ID': Scheme(shape=(), dtype=torch.int64)})\n",
      "begin1\n",
      "Graph(num_nodes=301, num_edges=45186,\n",
      "      ndata_schemes={'_ID': Scheme(shape=(), dtype=torch.int64)}\n",
      "      edata_schemes={'_ID': Scheme(shape=(), dtype=torch.int64)})\n",
      "Graph(num_nodes=300, num_edges=47162,\n",
      "      ndata_schemes={'_ID': Scheme(shape=(), dtype=torch.int64)}\n",
      "      edata_schemes={'_ID': Scheme(shape=(), dtype=torch.int64)})\n",
      "end1\n",
      "Graph(num_nodes=301, num_edges=46800,\n",
      "      ndata_schemes={'_ID': Scheme(shape=(), dtype=torch.int64)}\n",
      "      edata_schemes={'_ID': Scheme(shape=(), dtype=torch.int64)})\n",
      "Graph(num_nodes=301, num_edges=47630,\n",
      "      ndata_schemes={'_ID': Scheme(shape=(), dtype=torch.int64)}\n",
      "      edata_schemes={'_ID': Scheme(shape=(), dtype=torch.int64)})\n",
      "Graph(num_nodes=301, num_edges=47646,\n",
      "      ndata_schemes={'_ID': Scheme(shape=(), dtype=torch.int64)}\n",
      "      edata_schemes={'_ID': Scheme(shape=(), dtype=torch.int64)})\n",
      "Graph(num_nodes=301, num_edges=45942,\n",
      "      ndata_schemes={'_ID': Scheme(shape=(), dtype=torch.int64)}\n",
      "      edata_schemes={'_ID': Scheme(shape=(), dtype=torch.int64)})\n",
      "Graph(num_nodes=300, num_edges=48092,\n",
      "      ndata_schemes={'_ID': Scheme(shape=(), dtype=torch.int64)}\n",
      "      edata_schemes={'_ID': Scheme(shape=(), dtype=torch.int64)})\n",
      "Graph(num_nodes=301, num_edges=50892,\n",
      "      ndata_schemes={'_ID': Scheme(shape=(), dtype=torch.int64)}\n",
      "      edata_schemes={'_ID': Scheme(shape=(), dtype=torch.int64)})\n",
      "begin1\n",
      "Graph(num_nodes=301, num_edges=47926,\n",
      "      ndata_schemes={'_ID': Scheme(shape=(), dtype=torch.int64)}\n",
      "      edata_schemes={'_ID': Scheme(shape=(), dtype=torch.int64)})\n",
      "Graph(num_nodes=301, num_edges=46260,\n",
      "      ndata_schemes={'_ID': Scheme(shape=(), dtype=torch.int64)}\n",
      "      edata_schemes={'_ID': Scheme(shape=(), dtype=torch.int64)})\n",
      "Graph(num_nodes=301, num_edges=47766,\n",
      "      ndata_schemes={'_ID': Scheme(shape=(), dtype=torch.int64)}\n",
      "      edata_schemes={'_ID': Scheme(shape=(), dtype=torch.int64)})\n",
      "end1\n",
      "Graph(num_nodes=300, num_edges=47578,\n",
      "      ndata_schemes={'_ID': Scheme(shape=(), dtype=torch.int64)}\n",
      "      edata_schemes={'_ID': Scheme(shape=(), dtype=torch.int64)})\n",
      "Graph(num_nodes=300, num_edges=48814,\n",
      "      ndata_schemes={'_ID': Scheme(shape=(), dtype=torch.int64)}\n",
      "      edata_schemes={'_ID': Scheme(shape=(), dtype=torch.int64)})\n",
      "Graph(num_nodes=300, num_edges=51112,\n",
      "      ndata_schemes={'_ID': Scheme(shape=(), dtype=torch.int64)}\n",
      "      edata_schemes={'_ID': Scheme(shape=(), dtype=torch.int64)})\n",
      "Graph(num_nodes=301, num_edges=49820,\n",
      "      ndata_schemes={'_ID': Scheme(shape=(), dtype=torch.int64)}\n",
      "      edata_schemes={'_ID': Scheme(shape=(), dtype=torch.int64)})\n",
      "Graph(num_nodes=301, num_edges=47802,\n",
      "      ndata_schemes={'_ID': Scheme(shape=(), dtype=torch.int64)}\n",
      "      edata_schemes={'_ID': Scheme(shape=(), dtype=torch.int64)})\n",
      "Graph(num_nodes=301, num_edges=44778,\n",
      "      ndata_schemes={'_ID': Scheme(shape=(), dtype=torch.int64)}\n",
      "      edata_schemes={'_ID': Scheme(shape=(), dtype=torch.int64)})\n",
      "Graph(num_nodes=301, num_edges=45230,\n",
      "      ndata_schemes={'_ID': Scheme(shape=(), dtype=torch.int64)}\n",
      "      edata_schemes={'_ID': Scheme(shape=(), dtype=torch.int64)})\n",
      "Graph(num_nodes=300, num_edges=47370,\n",
      "      ndata_schemes={'_ID': Scheme(shape=(), dtype=torch.int64)}\n",
      "      edata_schemes={'_ID': Scheme(shape=(), dtype=torch.int64)})\n",
      "begin1\n",
      "Graph(num_nodes=301, num_edges=46324,\n",
      "      ndata_schemes={'_ID': Scheme(shape=(), dtype=torch.int64)}\n",
      "      edata_schemes={'_ID': Scheme(shape=(), dtype=torch.int64)})\n",
      "end1\n",
      "Graph(num_nodes=301, num_edges=50020,\n",
      "      ndata_schemes={'_ID': Scheme(shape=(), dtype=torch.int64)}\n",
      "      edata_schemes={'_ID': Scheme(shape=(), dtype=torch.int64)})\n",
      "Graph(num_nodes=300, num_edges=50840,\n",
      "      ndata_schemes={'_ID': Scheme(shape=(), dtype=torch.int64)}\n",
      "      edata_schemes={'_ID': Scheme(shape=(), dtype=torch.int64)})\n",
      "Graph(num_nodes=300, num_edges=46890,\n",
      "      ndata_schemes={'_ID': Scheme(shape=(), dtype=torch.int64)}\n",
      "      edata_schemes={'_ID': Scheme(shape=(), dtype=torch.int64)})\n",
      "Graph(num_nodes=301, num_edges=49662,\n",
      "      ndata_schemes={'_ID': Scheme(shape=(), dtype=torch.int64)}\n",
      "      edata_schemes={'_ID': Scheme(shape=(), dtype=torch.int64)})\n",
      "Graph(num_nodes=301, num_edges=45992,\n",
      "      ndata_schemes={'_ID': Scheme(shape=(), dtype=torch.int64)}\n",
      "      edata_schemes={'_ID': Scheme(shape=(), dtype=torch.int64)})\n",
      "Graph(num_nodes=301, num_edges=44870,\n",
      "      ndata_schemes={'_ID': Scheme(shape=(), dtype=torch.int64)}\n",
      "      edata_schemes={'_ID': Scheme(shape=(), dtype=torch.int64)})\n",
      "begin1\n",
      "Graph(num_nodes=300, num_edges=45980,\n",
      "      ndata_schemes={'_ID': Scheme(shape=(), dtype=torch.int64)}\n",
      "      edata_schemes={'_ID': Scheme(shape=(), dtype=torch.int64)})\n",
      "Graph(num_nodes=301, num_edges=48034,\n",
      "      ndata_schemes={'_ID': Scheme(shape=(), dtype=torch.int64)}\n",
      "      edata_schemes={'_ID': Scheme(shape=(), dtype=torch.int64)})\n",
      "end1\n",
      "Graph(num_nodes=301, num_edges=48310,\n",
      "      ndata_schemes={'_ID': Scheme(shape=(), dtype=torch.int64)}\n",
      "      edata_schemes={'_ID': Scheme(shape=(), dtype=torch.int64)})\n",
      "Graph(num_nodes=301, num_edges=46888,\n",
      "      ndata_schemes={'_ID': Scheme(shape=(), dtype=torch.int64)}\n",
      "      edata_schemes={'_ID': Scheme(shape=(), dtype=torch.int64)})\n",
      "Graph(num_nodes=300, num_edges=48558,\n",
      "      ndata_schemes={'_ID': Scheme(shape=(), dtype=torch.int64)}\n",
      "      edata_schemes={'_ID': Scheme(shape=(), dtype=torch.int64)})\n",
      "Graph(num_nodes=301, num_edges=45748,\n",
      "      ndata_schemes={'_ID': Scheme(shape=(), dtype=torch.int64)}\n",
      "      edata_schemes={'_ID': Scheme(shape=(), dtype=torch.int64)})\n",
      "Graph(num_nodes=301, num_edges=49198,\n",
      "      ndata_schemes={'_ID': Scheme(shape=(), dtype=torch.int64)}\n",
      "      edata_schemes={'_ID': Scheme(shape=(), dtype=torch.int64)})\n",
      "begin1\n",
      "Graph(num_nodes=301, num_edges=49816,\n",
      "      ndata_schemes={'_ID': Scheme(shape=(), dtype=torch.int64)}\n",
      "      edata_schemes={'_ID': Scheme(shape=(), dtype=torch.int64)})\n",
      "end1\n",
      "Graph(num_nodes=301, num_edges=48058,\n",
      "      ndata_schemes={'_ID': Scheme(shape=(), dtype=torch.int64)}\n",
      "      edata_schemes={'_ID': Scheme(shape=(), dtype=torch.int64)})\n",
      "Graph(num_nodes=301, num_edges=46280,\n",
      "      ndata_schemes={'_ID': Scheme(shape=(), dtype=torch.int64)}\n",
      "      edata_schemes={'_ID': Scheme(shape=(), dtype=torch.int64)})\n",
      "Graph(num_nodes=300, num_edges=48272,\n",
      "      ndata_schemes={'_ID': Scheme(shape=(), dtype=torch.int64)}\n",
      "      edata_schemes={'_ID': Scheme(shape=(), dtype=torch.int64)})\n",
      "Graph(num_nodes=301, num_edges=47354,\n",
      "      ndata_schemes={'_ID': Scheme(shape=(), dtype=torch.int64)}\n",
      "      edata_schemes={'_ID': Scheme(shape=(), dtype=torch.int64)})\n"
     ]
    },
    {
     "name": "stdout",
     "output_type": "stream",
     "text": [
      "Graph(num_nodes=301, num_edges=46164,\n",
      "      ndata_schemes={'_ID': Scheme(shape=(), dtype=torch.int64)}\n",
      "      edata_schemes={'_ID': Scheme(shape=(), dtype=torch.int64)})\n",
      "begin1\n",
      "Graph(num_nodes=301, num_edges=44540,\n",
      "      ndata_schemes={'_ID': Scheme(shape=(), dtype=torch.int64)}\n",
      "      edata_schemes={'_ID': Scheme(shape=(), dtype=torch.int64)})\n",
      "Graph(num_nodes=301, num_edges=46002,\n",
      "      ndata_schemes={'_ID': Scheme(shape=(), dtype=torch.int64)}\n",
      "      edata_schemes={'_ID': Scheme(shape=(), dtype=torch.int64)})\n",
      "Graph(num_nodes=300, num_edges=46432,\n",
      "      ndata_schemes={'_ID': Scheme(shape=(), dtype=torch.int64)}\n",
      "      edata_schemes={'_ID': Scheme(shape=(), dtype=torch.int64)})\n",
      "end1\n",
      "Graph(num_nodes=301, num_edges=48686,\n",
      "      ndata_schemes={'_ID': Scheme(shape=(), dtype=torch.int64)}\n",
      "      edata_schemes={'_ID': Scheme(shape=(), dtype=torch.int64)})\n",
      "Graph(num_nodes=301, num_edges=47472,\n",
      "      ndata_schemes={'_ID': Scheme(shape=(), dtype=torch.int64)}\n",
      "      edata_schemes={'_ID': Scheme(shape=(), dtype=torch.int64)})\n",
      "Graph(num_nodes=301, num_edges=49252,\n",
      "      ndata_schemes={'_ID': Scheme(shape=(), dtype=torch.int64)}\n",
      "      edata_schemes={'_ID': Scheme(shape=(), dtype=torch.int64)})\n",
      "Graph(num_nodes=300, num_edges=51458,\n",
      "      ndata_schemes={'_ID': Scheme(shape=(), dtype=torch.int64)}\n",
      "      edata_schemes={'_ID': Scheme(shape=(), dtype=torch.int64)})\n",
      "Graph(num_nodes=300, num_edges=47536,\n",
      "      ndata_schemes={'_ID': Scheme(shape=(), dtype=torch.int64)}\n",
      "      edata_schemes={'_ID': Scheme(shape=(), dtype=torch.int64)})\n",
      "Graph(num_nodes=300, num_edges=48324,\n",
      "      ndata_schemes={'_ID': Scheme(shape=(), dtype=torch.int64)}\n",
      "      edata_schemes={'_ID': Scheme(shape=(), dtype=torch.int64)})\n",
      "Graph(num_nodes=301, num_edges=47308,\n",
      "      ndata_schemes={'_ID': Scheme(shape=(), dtype=torch.int64)}\n",
      "      edata_schemes={'_ID': Scheme(shape=(), dtype=torch.int64)})\n",
      "Graph(num_nodes=301, num_edges=47824,\n",
      "      ndata_schemes={'_ID': Scheme(shape=(), dtype=torch.int64)}\n",
      "      edata_schemes={'_ID': Scheme(shape=(), dtype=torch.int64)})\n",
      "Graph(num_nodes=301, num_edges=47854,\n",
      "      ndata_schemes={'_ID': Scheme(shape=(), dtype=torch.int64)}\n",
      "      edata_schemes={'_ID': Scheme(shape=(), dtype=torch.int64)})\n",
      "begin1\n",
      "Graph(num_nodes=300, num_edges=44034,\n",
      "      ndata_schemes={'_ID': Scheme(shape=(), dtype=torch.int64)}\n",
      "      edata_schemes={'_ID': Scheme(shape=(), dtype=torch.int64)})\n",
      "Graph(num_nodes=300, num_edges=45190,\n",
      "      ndata_schemes={'_ID': Scheme(shape=(), dtype=torch.int64)}\n",
      "      edata_schemes={'_ID': Scheme(shape=(), dtype=torch.int64)})\n",
      "Graph(num_nodes=301, num_edges=41952,\n",
      "      ndata_schemes={'_ID': Scheme(shape=(), dtype=torch.int64)}\n",
      "      edata_schemes={'_ID': Scheme(shape=(), dtype=torch.int64)})\n",
      "end1\n",
      "Graph(num_nodes=301, num_edges=47374,\n",
      "      ndata_schemes={'_ID': Scheme(shape=(), dtype=torch.int64)}\n",
      "      edata_schemes={'_ID': Scheme(shape=(), dtype=torch.int64)})\n",
      "Graph(num_nodes=301, num_edges=42692,\n",
      "      ndata_schemes={'_ID': Scheme(shape=(), dtype=torch.int64)}\n",
      "      edata_schemes={'_ID': Scheme(shape=(), dtype=torch.int64)})\n",
      "Graph(num_nodes=300, num_edges=48630,\n",
      "      ndata_schemes={'_ID': Scheme(shape=(), dtype=torch.int64)}\n",
      "      edata_schemes={'_ID': Scheme(shape=(), dtype=torch.int64)})\n",
      "Graph(num_nodes=301, num_edges=40262,\n",
      "      ndata_schemes={'_ID': Scheme(shape=(), dtype=torch.int64)}\n",
      "      edata_schemes={'_ID': Scheme(shape=(), dtype=torch.int64)})\n",
      "Graph(num_nodes=301, num_edges=47908,\n",
      "      ndata_schemes={'_ID': Scheme(shape=(), dtype=torch.int64)}\n",
      "      edata_schemes={'_ID': Scheme(shape=(), dtype=torch.int64)})\n",
      "Graph(num_nodes=300, num_edges=48616,\n",
      "      ndata_schemes={'_ID': Scheme(shape=(), dtype=torch.int64)}\n",
      "      edata_schemes={'_ID': Scheme(shape=(), dtype=torch.int64)})\n",
      "Graph(num_nodes=301, num_edges=46674,\n",
      "      ndata_schemes={'_ID': Scheme(shape=(), dtype=torch.int64)}\n",
      "      edata_schemes={'_ID': Scheme(shape=(), dtype=torch.int64)})\n",
      "Graph(num_nodes=301, num_edges=43596,\n",
      "      ndata_schemes={'_ID': Scheme(shape=(), dtype=torch.int64)}\n",
      "      edata_schemes={'_ID': Scheme(shape=(), dtype=torch.int64)})\n",
      "Graph(num_nodes=301, num_edges=46036,\n",
      "      ndata_schemes={'_ID': Scheme(shape=(), dtype=torch.int64)}\n",
      "      edata_schemes={'_ID': Scheme(shape=(), dtype=torch.int64)})\n",
      "begin1\n",
      "Graph(num_nodes=301, num_edges=47924,\n",
      "      ndata_schemes={'_ID': Scheme(shape=(), dtype=torch.int64)}\n",
      "      edata_schemes={'_ID': Scheme(shape=(), dtype=torch.int64)})\n",
      "end1\n",
      "Graph(num_nodes=301, num_edges=44606,\n",
      "      ndata_schemes={'_ID': Scheme(shape=(), dtype=torch.int64)}\n",
      "      edata_schemes={'_ID': Scheme(shape=(), dtype=torch.int64)})\n",
      "Graph(num_nodes=301, num_edges=51384,\n",
      "      ndata_schemes={'_ID': Scheme(shape=(), dtype=torch.int64)}\n",
      "      edata_schemes={'_ID': Scheme(shape=(), dtype=torch.int64)})\n",
      "Graph(num_nodes=301, num_edges=45648,\n",
      "      ndata_schemes={'_ID': Scheme(shape=(), dtype=torch.int64)}\n",
      "      edata_schemes={'_ID': Scheme(shape=(), dtype=torch.int64)})\n",
      "Graph(num_nodes=301, num_edges=46528,\n",
      "      ndata_schemes={'_ID': Scheme(shape=(), dtype=torch.int64)}\n",
      "      edata_schemes={'_ID': Scheme(shape=(), dtype=torch.int64)})\n",
      "begin1\n",
      "Graph(num_nodes=301, num_edges=50632,\n",
      "      ndata_schemes={'_ID': Scheme(shape=(), dtype=torch.int64)}\n",
      "      edata_schemes={'_ID': Scheme(shape=(), dtype=torch.int64)})\n",
      "Graph(num_nodes=300, num_edges=49838,\n",
      "      ndata_schemes={'_ID': Scheme(shape=(), dtype=torch.int64)}\n",
      "      edata_schemes={'_ID': Scheme(shape=(), dtype=torch.int64)})\n",
      "end1\n",
      "Graph(num_nodes=301, num_edges=49572,\n",
      "      ndata_schemes={'_ID': Scheme(shape=(), dtype=torch.int64)}\n",
      "      edata_schemes={'_ID': Scheme(shape=(), dtype=torch.int64)})\n",
      "Graph(num_nodes=301, num_edges=48084,\n",
      "      ndata_schemes={'_ID': Scheme(shape=(), dtype=torch.int64)}\n",
      "      edata_schemes={'_ID': Scheme(shape=(), dtype=torch.int64)})\n",
      "Graph(num_nodes=301, num_edges=48936,\n",
      "      ndata_schemes={'_ID': Scheme(shape=(), dtype=torch.int64)}\n",
      "      edata_schemes={'_ID': Scheme(shape=(), dtype=torch.int64)})\n",
      "Graph(num_nodes=301, num_edges=47450,\n",
      "      ndata_schemes={'_ID': Scheme(shape=(), dtype=torch.int64)}\n",
      "      edata_schemes={'_ID': Scheme(shape=(), dtype=torch.int64)})\n",
      "Graph(num_nodes=301, num_edges=47604,\n",
      "      ndata_schemes={'_ID': Scheme(shape=(), dtype=torch.int64)}\n",
      "      edata_schemes={'_ID': Scheme(shape=(), dtype=torch.int64)})\n",
      "Graph(num_nodes=300, num_edges=44670,\n",
      "      ndata_schemes={'_ID': Scheme(shape=(), dtype=torch.int64)}\n",
      "      edata_schemes={'_ID': Scheme(shape=(), dtype=torch.int64)})\n",
      "Unexpected exception formatting exception. Falling back to standard exception\n"
     ]
    },
    {
     "name": "stderr",
     "output_type": "stream",
     "text": [
      "Traceback (most recent call last):\n",
      "  File \"C:\\Users\\pc\\AppData\\Roaming\\Python\\Python39\\site-packages\\IPython\\core\\interactiveshell.py\", line 3398, in run_code\n",
      "    exec(code_obj, self.user_global_ns, self.user_ns)\n",
      "  File \"C:\\Users\\pc\\AppData\\Local\\Temp\\ipykernel_22724\\3303405575.py\", line 1, in <cell line: 1>\n",
      "    for step, (x_spt, y_spt, x_qry, y_qry, c_spt, c_qry, n_spt, n_qry, g_spt, g_qry) in enumerate(db):\n",
      "  File \"C:\\Users\\pc\\AppData\\Roaming\\Python\\Python39\\site-packages\\torch\\utils\\data\\dataloader.py\", line 634, in __next__\n",
      "    data = self._next_data()\n",
      "  File \"C:\\Users\\pc\\AppData\\Roaming\\Python\\Python39\\site-packages\\torch\\utils\\data\\dataloader.py\", line 678, in _next_data\n",
      "    data = self._dataset_fetcher.fetch(index)  # may raise StopIteration\n",
      "  File \"C:\\Users\\pc\\AppData\\Roaming\\Python\\Python39\\site-packages\\torch\\utils\\data\\_utils\\fetch.py\", line 51, in fetch\n",
      "    data = [self.dataset[idx] for idx in possibly_batched_index]\n",
      "  File \"C:\\Users\\pc\\AppData\\Roaming\\Python\\Python39\\site-packages\\torch\\utils\\data\\_utils\\fetch.py\", line 51, in <listcomp>\n",
      "    data = [self.dataset[idx] for idx in possibly_batched_index]\n",
      "  File \"D:\\pythonProject\\python_file\\Graph_DD\\META-DD\\G-Meta\\subgraph_data_processing.py\", line 389, in __getitem__\n",
      "  File \"D:\\pythonProject\\python_file\\Graph_DD\\META-DD\\G-Meta\\subgraph_data_processing.py\", line 389, in <listcomp>\n",
      "  File \"D:\\pythonProject\\python_file\\Graph_DD\\META-DD\\G-Meta\\subgraph_data_processing.py\", line 335, in generate_subgraph\n",
      "    n_l = [[n.item() for n in G.in_edges(i)[0]] for i in f_hop]\n",
      "  File \"D:\\pythonProject\\python_file\\Graph_DD\\META-DD\\G-Meta\\subgraph_data_processing.py\", line 335, in <listcomp>\n",
      "    n_l = [[n.item() for n in G.in_edges(i)[0]] for i in f_hop]\n",
      "  File \"C:\\Users\\pc\\AppData\\Roaming\\Python\\Python39\\site-packages\\torch\\_tensor.py\", line 940, in __iter__\n",
      "    return iter(self.unbind(0))\n",
      "KeyboardInterrupt\n",
      "\n",
      "During handling of the above exception, another exception occurred:\n",
      "\n",
      "Traceback (most recent call last):\n",
      "  File \"C:\\Users\\pc\\AppData\\Roaming\\Python\\Python39\\site-packages\\IPython\\core\\interactiveshell.py\", line 1993, in showtraceback\n",
      "    stb = self.InteractiveTB.structured_traceback(\n",
      "  File \"C:\\Users\\pc\\AppData\\Roaming\\Python\\Python39\\site-packages\\IPython\\core\\ultratb.py\", line 1118, in structured_traceback\n",
      "    return FormattedTB.structured_traceback(\n",
      "  File \"C:\\Users\\pc\\AppData\\Roaming\\Python\\Python39\\site-packages\\IPython\\core\\ultratb.py\", line 1012, in structured_traceback\n",
      "    return VerboseTB.structured_traceback(\n",
      "  File \"C:\\Users\\pc\\AppData\\Roaming\\Python\\Python39\\site-packages\\IPython\\core\\ultratb.py\", line 865, in structured_traceback\n",
      "    formatted_exception = self.format_exception_as_a_whole(etype, evalue, etb, number_of_lines_of_context,\n",
      "  File \"C:\\Users\\pc\\AppData\\Roaming\\Python\\Python39\\site-packages\\IPython\\core\\ultratb.py\", line 818, in format_exception_as_a_whole\n",
      "    frames.append(self.format_record(r))\n",
      "  File \"C:\\Users\\pc\\AppData\\Roaming\\Python\\Python39\\site-packages\\IPython\\core\\ultratb.py\", line 736, in format_record\n",
      "    result += ''.join(_format_traceback_lines(frame_info.lines, Colors, self.has_colors, lvals))\n",
      "  File \"C:\\Users\\pc\\AppData\\Roaming\\Python\\Python39\\site-packages\\stack_data\\utils.py\", line 145, in cached_property_wrapper\n",
      "    value = obj.__dict__[self.func.__name__] = self.func(obj)\n",
      "  File \"C:\\Users\\pc\\AppData\\Roaming\\Python\\Python39\\site-packages\\stack_data\\core.py\", line 698, in lines\n",
      "    pieces = self.included_pieces\n",
      "  File \"C:\\Users\\pc\\AppData\\Roaming\\Python\\Python39\\site-packages\\stack_data\\utils.py\", line 145, in cached_property_wrapper\n",
      "    value = obj.__dict__[self.func.__name__] = self.func(obj)\n",
      "  File \"C:\\Users\\pc\\AppData\\Roaming\\Python\\Python39\\site-packages\\stack_data\\core.py\", line 649, in included_pieces\n",
      "    pos = scope_pieces.index(self.executing_piece)\n",
      "  File \"C:\\Users\\pc\\AppData\\Roaming\\Python\\Python39\\site-packages\\stack_data\\utils.py\", line 145, in cached_property_wrapper\n",
      "    value = obj.__dict__[self.func.__name__] = self.func(obj)\n",
      "  File \"C:\\Users\\pc\\AppData\\Roaming\\Python\\Python39\\site-packages\\stack_data\\core.py\", line 628, in executing_piece\n",
      "    return only(\n",
      "  File \"C:\\Users\\pc\\AppData\\Roaming\\Python\\Python39\\site-packages\\executing\\executing.py\", line 164, in only\n",
      "    raise NotOneValueFound('Expected one value, found 0')\n",
      "executing.executing.NotOneValueFound: Expected one value, found 0\n"
     ]
    }
   ],
   "source": [
    "for step, (x_spt, y_spt, x_qry, y_qry, c_spt, c_qry, n_spt, n_qry, g_spt, g_qry) in enumerate(db):\n",
    "    # 对于合成图而言，每次采样出来的子集接近原图大小，因此通过--sample_nodes进行限制，当然这种办法并不能加快采样过程，只是能缓解训练batch过大的情况\n"
   ]
  },
  {
   "cell_type": "code",
   "execution_count": null,
   "id": "6f7c9cdd",
   "metadata": {},
   "outputs": [],
   "source": []
  },
  {
   "cell_type": "raw",
   "id": "8a6fc8bb",
   "metadata": {},
   "source": [
    "# 生成的数据全都是训练集，训练完以后用原始数据的测试集测试效果"
   ]
  }
 ],
 "metadata": {
  "kernelspec": {
   "display_name": "Python 3 (ipykernel)",
   "language": "python",
   "name": "python3"
  },
  "language_info": {
   "codemirror_mode": {
    "name": "ipython",
    "version": 3
   },
   "file_extension": ".py",
   "mimetype": "text/x-python",
   "name": "python",
   "nbconvert_exporter": "python",
   "pygments_lexer": "ipython3",
   "version": "3.9.16"
  }
 },
 "nbformat": 4,
 "nbformat_minor": 5
}
